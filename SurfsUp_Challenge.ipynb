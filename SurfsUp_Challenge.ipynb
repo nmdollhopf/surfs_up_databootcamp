{
 "cells": [
  {
   "cell_type": "code",
   "execution_count": 1,
   "metadata": {},
   "outputs": [],
   "source": [
    "# Dependencies\n",
    "import numpy as np\n",
    "import pandas as pd\n",
    "import matplotlib.pyplot as plt\n",
    "\n",
    "# Python SQL toolkit and Object Relational Mapper\n",
    "import sqlalchemy\n",
    "from sqlalchemy.ext.automap import automap_base\n",
    "from sqlalchemy.orm import Session\n",
    "from sqlalchemy import create_engine, func"
   ]
  },
  {
   "cell_type": "code",
   "execution_count": 2,
   "metadata": {},
   "outputs": [],
   "source": [
    "engine = create_engine(\"sqlite:///hawaii.sqlite\")\n",
    "\n",
    "# reflect an existing database into a new model\n",
    "Base = automap_base()\n",
    "# reflect the tables\n",
    "Base.prepare(engine, reflect=True)\n",
    "\n",
    "# Save references to each table\n",
    "Measurement = Base.classes.measurement\n",
    "Station = Base.classes.station"
   ]
  },
  {
   "cell_type": "code",
   "execution_count": 3,
   "metadata": {},
   "outputs": [],
   "source": [
    "# Create our session (link) from Python to the DB\n",
    "session = Session(engine)"
   ]
  },
  {
   "cell_type": "markdown",
   "metadata": {},
   "source": [
    "## D1: Determine the Summary Statistics for June"
   ]
  },
  {
   "cell_type": "code",
   "execution_count": 4,
   "metadata": {},
   "outputs": [],
   "source": [
    "# Import the sqlalchemy extract function.\n",
    "from sqlalchemy import extract\n",
    "\n",
    "# 1. Write a query that filters the Measurement table to retrieve the temperatures for the month of June. \n",
    "results = session.query(Measurement.date, Measurement.tobs).filter(extract(\"month\", Measurement.date)==6)\n",
    "\n",
    "# option: use 'like' comparison\n",
    "# session.query(Measurement.date, Measurement.tobs).filter(Measurement.date.like('%-06-%''))"
   ]
  },
  {
   "cell_type": "code",
   "execution_count": 5,
   "metadata": {},
   "outputs": [],
   "source": [
    "# 2. Convert the June temperatures to a list.\n",
    "june_temps_list = results.all()"
   ]
  },
  {
   "cell_type": "code",
   "execution_count": 6,
   "metadata": {},
   "outputs": [],
   "source": [
    "# 3. Create a DataFrame from the list of temperatures for the month of June. \n",
    "june_temps_df = pd.DataFrame(june_temps_list, columns=['date','temp'])\n",
    "\n",
    "# alternatively, just put the entire query right into a dataframe\n",
    "#pd.DataFrame(session.query(Measurement.date, Measurement.tobs).filter(extract(\"month\", Measurement.date)==6).all(),\\\n",
    "#             columns=['date','temp'])"
   ]
  },
  {
   "cell_type": "code",
   "execution_count": 7,
   "metadata": {},
   "outputs": [
    {
     "data": {
      "text/html": [
       "<div>\n",
       "<style scoped>\n",
       "    .dataframe tbody tr th:only-of-type {\n",
       "        vertical-align: middle;\n",
       "    }\n",
       "\n",
       "    .dataframe tbody tr th {\n",
       "        vertical-align: top;\n",
       "    }\n",
       "\n",
       "    .dataframe thead th {\n",
       "        text-align: right;\n",
       "    }\n",
       "</style>\n",
       "<table border=\"1\" class=\"dataframe\">\n",
       "  <thead>\n",
       "    <tr style=\"text-align: right;\">\n",
       "      <th></th>\n",
       "      <th>temp</th>\n",
       "    </tr>\n",
       "  </thead>\n",
       "  <tbody>\n",
       "    <tr>\n",
       "      <th>count</th>\n",
       "      <td>1700.000000</td>\n",
       "    </tr>\n",
       "    <tr>\n",
       "      <th>mean</th>\n",
       "      <td>74.944118</td>\n",
       "    </tr>\n",
       "    <tr>\n",
       "      <th>std</th>\n",
       "      <td>3.257417</td>\n",
       "    </tr>\n",
       "    <tr>\n",
       "      <th>min</th>\n",
       "      <td>64.000000</td>\n",
       "    </tr>\n",
       "    <tr>\n",
       "      <th>25%</th>\n",
       "      <td>73.000000</td>\n",
       "    </tr>\n",
       "    <tr>\n",
       "      <th>50%</th>\n",
       "      <td>75.000000</td>\n",
       "    </tr>\n",
       "    <tr>\n",
       "      <th>75%</th>\n",
       "      <td>77.000000</td>\n",
       "    </tr>\n",
       "    <tr>\n",
       "      <th>max</th>\n",
       "      <td>85.000000</td>\n",
       "    </tr>\n",
       "  </tbody>\n",
       "</table>\n",
       "</div>"
      ],
      "text/plain": [
       "              temp\n",
       "count  1700.000000\n",
       "mean     74.944118\n",
       "std       3.257417\n",
       "min      64.000000\n",
       "25%      73.000000\n",
       "50%      75.000000\n",
       "75%      77.000000\n",
       "max      85.000000"
      ]
     },
     "execution_count": 7,
     "metadata": {},
     "output_type": "execute_result"
    }
   ],
   "source": [
    "# 4. Calculate and print out the summary statistics for the June temperature DataFrame.\n",
    "june_temps_df.describe()"
   ]
  },
  {
   "cell_type": "code",
   "execution_count": 8,
   "metadata": {},
   "outputs": [],
   "source": [
    "# 5. Return to your challenge instructions to compare your summary statistics"
   ]
  },
  {
   "cell_type": "markdown",
   "metadata": {},
   "source": [
    "## D2: Determine the Summary Statistics for December"
   ]
  },
  {
   "cell_type": "code",
   "execution_count": 9,
   "metadata": {},
   "outputs": [],
   "source": [
    "# 6. Write a query that filters the Measurement table to retrieve the temperatures for the month of December.\n",
    "results = session.query(Measurement.date, Measurement.tobs).filter(extract(\"month\", Measurement.date)==12)"
   ]
  },
  {
   "cell_type": "code",
   "execution_count": 10,
   "metadata": {},
   "outputs": [],
   "source": [
    "# 7. Convert the December temperatures to a list.\n",
    "dec_temps_list = results.all()"
   ]
  },
  {
   "cell_type": "code",
   "execution_count": 11,
   "metadata": {},
   "outputs": [],
   "source": [
    "# 8. Create a DataFrame from the list of temperatures for the month of December. \n",
    "dec_temps_df = pd.DataFrame(dec_temps_list, columns=['date','temp'])"
   ]
  },
  {
   "cell_type": "code",
   "execution_count": 12,
   "metadata": {},
   "outputs": [
    {
     "data": {
      "text/html": [
       "<div>\n",
       "<style scoped>\n",
       "    .dataframe tbody tr th:only-of-type {\n",
       "        vertical-align: middle;\n",
       "    }\n",
       "\n",
       "    .dataframe tbody tr th {\n",
       "        vertical-align: top;\n",
       "    }\n",
       "\n",
       "    .dataframe thead th {\n",
       "        text-align: right;\n",
       "    }\n",
       "</style>\n",
       "<table border=\"1\" class=\"dataframe\">\n",
       "  <thead>\n",
       "    <tr style=\"text-align: right;\">\n",
       "      <th></th>\n",
       "      <th>temp</th>\n",
       "    </tr>\n",
       "  </thead>\n",
       "  <tbody>\n",
       "    <tr>\n",
       "      <th>count</th>\n",
       "      <td>1517.000000</td>\n",
       "    </tr>\n",
       "    <tr>\n",
       "      <th>mean</th>\n",
       "      <td>71.041529</td>\n",
       "    </tr>\n",
       "    <tr>\n",
       "      <th>std</th>\n",
       "      <td>3.745920</td>\n",
       "    </tr>\n",
       "    <tr>\n",
       "      <th>min</th>\n",
       "      <td>56.000000</td>\n",
       "    </tr>\n",
       "    <tr>\n",
       "      <th>25%</th>\n",
       "      <td>69.000000</td>\n",
       "    </tr>\n",
       "    <tr>\n",
       "      <th>50%</th>\n",
       "      <td>71.000000</td>\n",
       "    </tr>\n",
       "    <tr>\n",
       "      <th>75%</th>\n",
       "      <td>74.000000</td>\n",
       "    </tr>\n",
       "    <tr>\n",
       "      <th>max</th>\n",
       "      <td>83.000000</td>\n",
       "    </tr>\n",
       "  </tbody>\n",
       "</table>\n",
       "</div>"
      ],
      "text/plain": [
       "              temp\n",
       "count  1517.000000\n",
       "mean     71.041529\n",
       "std       3.745920\n",
       "min      56.000000\n",
       "25%      69.000000\n",
       "50%      71.000000\n",
       "75%      74.000000\n",
       "max      83.000000"
      ]
     },
     "execution_count": 12,
     "metadata": {},
     "output_type": "execute_result"
    }
   ],
   "source": [
    "# 9. Calculate and print out the summary statistics for the Decemeber temperature DataFrame.\n",
    "dec_temps_df.describe()"
   ]
  },
  {
   "cell_type": "code",
   "execution_count": 13,
   "metadata": {},
   "outputs": [],
   "source": [
    "# 10. Return to your challenge instructions to compare your summary statistics"
   ]
  },
  {
   "cell_type": "code",
   "execution_count": 14,
   "metadata": {},
   "outputs": [],
   "source": [
    "# get temperature data for each month\n",
    "# store each result straight into a dataframe\n",
    "# filter on month using a for loop\n",
    "# store each df as an element of a list\n",
    "\n",
    "list_of_dfs = []\n",
    "for monthnum in range(1,13):\n",
    "    list_of_dfs.append(\n",
    "        pd.DataFrame(session.query(Measurement.date, Measurement.tobs).\\\n",
    "                     filter(extract(\"month\", Measurement.date)==monthnum).all(),\\\n",
    "             columns=['date','temp'])\n",
    "    )"
   ]
  },
  {
   "cell_type": "code",
   "execution_count": 15,
   "metadata": {},
   "outputs": [
    {
     "data": {
      "text/plain": [
       "Text(0.5, 1.0, 'Average Oahu temperature')"
      ]
     },
     "execution_count": 15,
     "metadata": {},
     "output_type": "execute_result"
    },
    {
     "data": {
      "image/png": "[encoded data removed]",
      "text/plain": [
       "<Figure size 640x480 with 1 Axes>"
      ]
     },
     "metadata": {},
     "output_type": "display_data"
    }
   ],
   "source": [
    "#for df in list_of_dfs:\n",
    "#    print(df.describe())\n",
    "\n",
    "# store the average temp and std dev of temp as list in a list, convert to np array for index slicing\n",
    "temps_avg_std = np.asarray([[df.describe().loc['mean', 'temp'], df.describe().loc['std', 'temp']]  for df in list_of_dfs])\n",
    "temps_avg_std\n",
    "\n",
    "\n",
    "plt.errorbar(range(1,len(temps_avg_std)+1), temps_avg_std[:,0], yerr=temps_avg_std[:,1])\n",
    "#plt.ylim(32,100)\n",
    "plt.xlabel(\"Month\")\n",
    "plt.ylabel(\"Average temperature\")\n",
    "plt.title(\"Average Oahu temperature\")\n"
   ]
  },
  {
   "cell_type": "code",
   "execution_count": 16,
   "metadata": {},
   "outputs": [
    {
     "name": "stdout",
     "output_type": "stream",
     "text": [
      "              temp\n",
      "count  1727.000000\n",
      "mean     68.726115\n",
      "std       4.367892\n",
      "min      54.000000\n",
      "25%      66.000000\n",
      "50%      69.000000\n",
      "75%      72.000000\n",
      "max      81.000000\n",
      "              temp\n",
      "count  1610.000000\n",
      "mean     69.442236\n",
      "std       3.981399\n",
      "min      56.000000\n",
      "25%      67.000000\n",
      "50%      70.000000\n",
      "75%      72.000000\n",
      "max      83.000000\n",
      "              temp\n",
      "count  1693.000000\n",
      "mean     70.059067\n",
      "std       3.845271\n",
      "min      56.000000\n",
      "25%      68.000000\n",
      "50%      70.000000\n",
      "75%      73.000000\n",
      "max      82.000000\n",
      "              temp\n",
      "count  1713.000000\n",
      "mean     72.357268\n",
      "std       3.632131\n",
      "min      53.000000\n",
      "25%      70.000000\n",
      "50%      73.000000\n",
      "75%      75.000000\n",
      "max      84.000000\n",
      "              temp\n",
      "count  1733.000000\n",
      "mean     73.680900\n",
      "std       3.355783\n",
      "min      63.000000\n",
      "25%      71.000000\n",
      "50%      74.000000\n",
      "75%      76.000000\n",
      "max      87.000000\n",
      "              temp\n",
      "count  1700.000000\n",
      "mean     74.944118\n",
      "std       3.257417\n",
      "min      64.000000\n",
      "25%      73.000000\n",
      "50%      75.000000\n",
      "75%      77.000000\n",
      "max      85.000000\n",
      "              temp\n",
      "count  1711.000000\n",
      "mean     76.082408\n",
      "std       3.356532\n",
      "min      61.000000\n",
      "25%      74.000000\n",
      "50%      76.000000\n",
      "75%      78.000000\n",
      "max      87.000000\n",
      "              temp\n",
      "count  1622.000000\n",
      "mean     76.412454\n",
      "std       3.453138\n",
      "min      65.000000\n",
      "25%      74.000000\n",
      "50%      76.000000\n",
      "75%      79.000000\n",
      "max      87.000000\n",
      "              temp\n",
      "count  1480.000000\n",
      "mean     76.164865\n",
      "std       3.535178\n",
      "min      64.000000\n",
      "25%      74.000000\n",
      "50%      76.000000\n",
      "75%      79.000000\n",
      "max      87.000000\n",
      "              temp\n",
      "count  1556.000000\n",
      "mean     75.391388\n",
      "std       3.545084\n",
      "min      64.000000\n",
      "25%      73.000000\n",
      "50%      76.000000\n",
      "75%      78.000000\n",
      "max      86.000000\n",
      "              temp\n",
      "count  1488.000000\n",
      "mean     73.252688\n",
      "std       3.617282\n",
      "min      61.000000\n",
      "25%      71.000000\n",
      "50%      74.000000\n",
      "75%      76.000000\n",
      "max      83.000000\n",
      "              temp\n",
      "count  1517.000000\n",
      "mean     71.041529\n",
      "std       3.745920\n",
      "min      56.000000\n",
      "25%      69.000000\n",
      "50%      71.000000\n",
      "75%      74.000000\n",
      "max      83.000000\n"
     ]
    }
   ],
   "source": [
    "for tempdf in list_of_dfs:\n",
    "    print(tempdf.describe())"
   ]
  },
  {
   "cell_type": "code",
   "execution_count": null,
   "metadata": {},
   "outputs": [],
   "source": []
  }
 ],
 "metadata": {
  "kernelspec": {
   "display_name": "PythonData",
   "language": "python",
   "name": "pythondata"
  },
  "language_info": {
   "codemirror_mode": {
    "name": "ipython",
    "version": 3
   },
   "file_extension": ".py",
   "mimetype": "text/x-python",
   "name": "python",
   "nbconvert_exporter": "python",
   "pygments_lexer": "ipython3",
   "version": "3.7.13"
  }
 },
 "nbformat": 4,
 "nbformat_minor": 2
}
